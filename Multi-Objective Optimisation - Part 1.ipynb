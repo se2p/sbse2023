{
 "cells": [
  {
   "cell_type": "markdown",
   "metadata": {
    "slideshow": {
     "slide_type": "slide"
    }
   },
   "source": [
    "# Multi Objective Evolutionary Algorithms (Part 1)"
   ]
  },
  {
   "cell_type": "markdown",
   "metadata": {
    "slideshow": {
     "slide_type": "skip"
    }
   },
   "source": [
    "This chapter continues our consideration of evolutionary algorithms, but generalises to the case where we have more than one objective. First we need to import the usual stuff, and some new libraries so we can look at animations of the search:"
   ]
  },
  {
   "cell_type": "code",
   "execution_count": null,
   "metadata": {
    "slideshow": {
     "slide_type": "fragment"
    }
   },
   "outputs": [],
   "source": [
    "import sys\n",
    "import random\n",
    "import matplotlib.pyplot as plt\n",
    "import matplotlib.animation as animation\n",
    "from IPython.display import HTML"
   ]
  },
  {
   "cell_type": "markdown",
   "metadata": {
    "slideshow": {
     "slide_type": "slide"
    }
   },
   "source": [
    "## The Next Release Problem"
   ]
  },
  {
   "cell_type": "markdown",
   "metadata": {
    "slideshow": {
     "slide_type": "skip"
    }
   },
   "source": [
    "As an example problem instance, we consider the Next Release Problem (NRP), which relates to the problem of balancing customer profits and requirements costs in requirements engineering. The aim is to maximise customer profits from a set of dependent requirements, under the constraints of a predefined budget bound. A solution to the NRP problem can inform a requirements engineer when making  a decision for software requirements to balance the profits of the company and the customers."
   ]
  },
  {
   "cell_type": "markdown",
   "metadata": {
    "slideshow": {
     "slide_type": "skip"
    }
   },
   "source": [
    "NRP is a classical problem in software engineering, and we will use example datasets taken from http://cstar.whu.edu.cn/p/nrp/. To represent a concrete NRP task, we need to represent the following information:\n",
    "- For each requirement we need to store its cost\n",
    "- For each requirement we need to store its dependencies (i.e. other requirements that need to be satisfied first)\n",
    "- For each customer we need to store a weight that represents the importance of that customer\n",
    "- For each customer we need to store the list of requirements that they desire"
   ]
  },
  {
   "cell_type": "code",
   "execution_count": null,
   "metadata": {
    "slideshow": {
     "slide_type": "fragment"
    }
   },
   "outputs": [],
   "source": [
    "profit_map = {}        # customer id => weight\n",
    "requirements_map = {}  # customer id => [ requirement_id * ]\n",
    "cost_map = {}          # requirement id => cost\n",
    "dependency_map = {}    # requirement id => [ requirement_id * ]\n",
    "num_requirements = 140"
   ]
  },
  {
   "cell_type": "markdown",
   "metadata": {
    "slideshow": {
     "slide_type": "skip"
    }
   },
   "source": [
    "We will use the standard interchance format for NRP problems (http://cstar.whu.edu.cn/p/nrp/), which looks as follows (taken from the `readme.txt`):"
   ]
  },
  {
   "cell_type": "markdown",
   "metadata": {
    "slideshow": {
     "slide_type": "slide"
    }
   },
   "source": [
    "```\n",
    "3\n",
    "^ Level of requirements, t\n",
    "20\n",
    "^ Number of requirements in Level 1\n",
    "4 3 4 1 5 5 5 3 5 3 4 4 3 5 1 1 3 2 2 3\n",
    "^ Costs of requirements in Level 1 (the number is 20)\n",
    "40\n",
    "^ Number of requirements in Level 2\n",
    "8 8 2 6 7 4 5 3 6 3 7 2 6 3 5 2 2 4 2 5 4 5 2 2 8 4 2 4 8 7 3 6 6 4 3 6 4 8 6 7\n",
    "^ Costs of requirements in Level 2 (the number is 40)\n",
    "80\n",
    "^ Number of requirements in Level 3\n",
    "9 6 10 6 9 10 7 9 7 6 10 6 5 10 5 6 6 6 5 6 8 10 9 6 10 7 10 8 9 9 6 10 8 8 10 10 6 7 6 8 7 10\n",
    "^ Costs of requirements in Level 3 (the number is 80)\n",
    "97\n",
    "^ Number of dependencies\n",
    "1 85\n",
    "^ Id of RequirementA1   Id of RequirementB1\n",
    "2 98\n",
    "^ Id of RequirementA2   Id of RequirementB2\n",
    "2 37\n",
    "2 92\n",
    "...\n",
    "```"
   ]
  },
  {
   "cell_type": "markdown",
   "metadata": {
    "slideshow": {
     "slide_type": "skip"
    }
   },
   "source": [
    "To parse these files we define a helper function:"
   ]
  },
  {
   "cell_type": "code",
   "execution_count": null,
   "metadata": {
    "slideshow": {
     "slide_type": "slide"
    }
   },
   "outputs": [],
   "source": [
    "def parse_nrp(filename):\n",
    "\n",
    "    with open(filename) as fp:\n",
    "        levels   = int(fp.readline())\n",
    "        req_id = 1\n",
    "        for level in range(levels):\n",
    "            num_reqs = int(fp.readline())\n",
    "            for cost in fp.readline().split():\n",
    "                cost_map[req_id] = int(cost)\n",
    "                req_id += 1\n",
    "        total_deps = int(fp.readline())\n",
    "        for num_dep in range(total_deps):\n",
    "            r1, r2 = fp.readline().split()\n",
    "            r1_id = int(r1)\n",
    "            if r1_id in dependency_map:\n",
    "                dependency_map[int(r1)].append(int(r2))\n",
    "            else:\n",
    "                dependency_map[int(r1)] = [int(r2)]\n",
    "\n",
    "        total_customers = int(fp.readline())\n",
    "        for num_cust in range(total_customers):\n",
    "            customer = fp.readline().split()\n",
    "            profit_map[num_cust + 1] = int(customer[0])\n",
    "            num_reqs = int(customer[1])\n",
    "            requirements = []\n",
    "            for num_req in range(num_reqs):\n",
    "                requirements.append(int(customer[2+num_req]))\n",
    "            requirements_map[num_cust + 1] = requirements\n",
    "\n",
    "        num_requirements = len(cost_map)\n",
    "\n",
    "    print(\"Cost: {}\".format(cost_map))\n",
    "    print(\"Dependencies: {}\".format(dependency_map))\n",
    "    print(\"Profit: {}\".format(profit_map))\n",
    "    print(\"Requirements: {}\".format(requirements_map))\n",
    "    print(\"Num requirements: {}\".format(num_requirements))"
   ]
  },
  {
   "cell_type": "markdown",
   "metadata": {
    "slideshow": {
     "slide_type": "skip"
    }
   },
   "source": [
    "As running example, we will use the small instance `nrp1.txt`:"
   ]
  },
  {
   "cell_type": "code",
   "execution_count": null,
   "metadata": {
    "slideshow": {
     "slide_type": "slide"
    }
   },
   "outputs": [],
   "source": [
    "parse_nrp(\"data/nrp/nrp1.txt\")"
   ]
  },
  {
   "cell_type": "markdown",
   "metadata": {
    "slideshow": {
     "slide_type": "skip"
    }
   },
   "source": [
    "A solution to an NRP problem is a choice of requirements. We can simply represent this as a binary vector of the length of the number of requirements, and for each index in the vector we use `0` or `1` to denote whether the requirement is chosen or not. This is a classical way to represent subset-selection (Knapsack) problems."
   ]
  },
  {
   "cell_type": "code",
   "execution_count": null,
   "metadata": {
    "slideshow": {
     "slide_type": "slide"
    }
   },
   "outputs": [],
   "source": [
    "def get_random_individual():\n",
    "    individual = [random.choice([0,1]) for _ in range(num_requirements)]\n",
    "    return individual"
   ]
  },
  {
   "cell_type": "code",
   "execution_count": null,
   "metadata": {
    "slideshow": {
     "slide_type": "fragment"
    }
   },
   "outputs": [],
   "source": [
    "%pprint  # Turn off pretty printing to avoid waste of space\n",
    "get_random_individual()"
   ]
  },
  {
   "cell_type": "markdown",
   "metadata": {
    "slideshow": {
     "slide_type": "skip"
    }
   },
   "source": [
    "We can also decode the individual to see the actual numbers of the requirements selected:"
   ]
  },
  {
   "cell_type": "code",
   "execution_count": null,
   "metadata": {
    "slideshow": {
     "slide_type": "fragment"
    }
   },
   "outputs": [],
   "source": [
    "[i for i, x in enumerate(get_random_individual()) if x == 1]"
   ]
  },
  {
   "cell_type": "code",
   "execution_count": null,
   "metadata": {
    "slideshow": {
     "slide_type": "fragment"
    }
   },
   "outputs": [],
   "source": [
    "%pprint  # Turn pretty printing back on now that we're done with long lists"
   ]
  },
  {
   "cell_type": "markdown",
   "metadata": {
    "slideshow": {
     "slide_type": "skip"
    }
   },
   "source": [
    "Since our representation is identical to the one we used for previous problems such as one max, we can also keep the same mutation function that implements simple bit flips:"
   ]
  },
  {
   "cell_type": "code",
   "execution_count": null,
   "metadata": {
    "slideshow": {
     "slide_type": "slide"
    }
   },
   "outputs": [],
   "source": [
    "def mutate(solution):\n",
    "    P_mutate = 1/len(solution)\n",
    "    mutated = solution[:]\n",
    "    for position in range(len(solution)):\n",
    "        if random.random() < P_mutate:\n",
    "            mutated[position] = 1 - mutated[position]\n",
    "    return mutated"
   ]
  },
  {
   "cell_type": "markdown",
   "metadata": {
    "slideshow": {
     "slide_type": "skip"
    }
   },
   "source": [
    "The question of the fitness function, however, is slightly more tricky: There are actually two properties we would like to optimise. First, there is the profit, which we calculate as the sum of the weights of customers whose requirements are completely satisfied by the selection of requirements in a solution:"
   ]
  },
  {
   "cell_type": "code",
   "execution_count": null,
   "metadata": {
    "slideshow": {
     "slide_type": "slide"
    }
   },
   "outputs": [],
   "source": [
    "# Profit is the sum of the weights of customers whose requirements are satisfied\n",
    "def function1(solution):\n",
    "    fitness = 0\n",
    "\n",
    "    requirements = set([x+1 for x in range(len(solution)) if solution[x] == 1])\n",
    "    for customer_id in profit_map.keys():\n",
    "        reqs = set(requirements_map[customer_id])\n",
    "        if reqs.issubset(requirements):\n",
    "            fitness += profit_map[customer_id]\n",
    "\n",
    "    return fitness"
   ]
  },
  {
   "cell_type": "markdown",
   "metadata": {
    "slideshow": {
     "slide_type": "skip"
    }
   },
   "source": [
    "The second dimension for optimisation are the costs. Obviously, the smaller the costs, the better for the company implementing the software system. We calculate the costs simply as the sum of the costs of the chosen requirements:"
   ]
  },
  {
   "cell_type": "code",
   "execution_count": null,
   "metadata": {
    "slideshow": {
     "slide_type": "fragment"
    }
   },
   "outputs": [],
   "source": [
    "# Cost is the sum of costs of the implemented requirements\n",
    "def function2(solution):\n",
    "    cost = 0\n",
    "\n",
    "    for i in range(num_requirements):\n",
    "        if solution[i]:\n",
    "            cost += cost_map[i+1]\n",
    "\n",
    "    return cost"
   ]
  },
  {
   "cell_type": "markdown",
   "metadata": {
    "slideshow": {
     "slide_type": "skip"
    }
   },
   "source": [
    "Note that we want to minimise, and not maximise, the costs. We do, however, know the worst possible fitness value for cost, which is simply the cost of selecting all requirements:"
   ]
  },
  {
   "cell_type": "code",
   "execution_count": null,
   "metadata": {
    "slideshow": {
     "slide_type": "slide"
    }
   },
   "outputs": [],
   "source": [
    "total_costs = sum([ cost_map[i+1] for i in range(num_requirements)])"
   ]
  },
  {
   "cell_type": "code",
   "execution_count": null,
   "metadata": {
    "slideshow": {
     "slide_type": "fragment"
    }
   },
   "outputs": [],
   "source": [
    "total_profit = sum(profit_map.values())"
   ]
  },
  {
   "cell_type": "markdown",
   "metadata": {
    "slideshow": {
     "slide_type": "skip"
    }
   },
   "source": [
    "There are also dependencies between the requirements -- we'll ignore these for now to keep the example simple. In principle, however, we would need to factor these in as well in some way. For example, we could always add dependencies before evaluating fitness, or we could include the degree to which dependencies are satisfied in the fitness calculation, or we could constraint our `get_random_individual` and `mutate` functions to only return solutions where dependencies are satisfied."
   ]
  },
  {
   "cell_type": "markdown",
   "metadata": {
    "slideshow": {
     "slide_type": "skip"
    }
   },
   "source": [
    "A random search would again consist of sampling a number of random solutions. Instead of looking at a single plot over time, however, the solutions are actually in a two-dimensional fitness space:"
   ]
  },
  {
   "cell_type": "code",
   "execution_count": null,
   "metadata": {
    "slideshow": {
     "slide_type": "slide"
    }
   },
   "outputs": [],
   "source": [
    "example_population = [get_random_individual() for _ in range(100)]\n",
    "function1_values = [function1(x) for x in example_population]\n",
    "function2_values = [function2(x) for x in example_population]\n",
    "plt.xlabel('Profit', fontsize=15)\n",
    "plt.ylabel('Cost', fontsize=15)\n",
    "plt.scatter(function1_values, function2_values)"
   ]
  },
  {
   "cell_type": "markdown",
   "metadata": {
    "slideshow": {
     "slide_type": "skip"
    }
   },
   "source": [
    "There is a trade-off between cost and profit: More profitable solutions tend to also have higher costs; the lowest costs can be achieved by not implementing anything, which would also bring no profit. In this two-dimensional plot, solutions that are in the bottom right corner are the best, since they achieve high profit at low costs."
   ]
  },
  {
   "cell_type": "markdown",
   "metadata": {
    "slideshow": {
     "slide_type": "skip"
    }
   },
   "source": [
    "In the previous chapter, we noted that we are redundantly calculating fitness values. To make things more realistic, we are now going to cache fitness values in individuals. We will simply do this by adding a `fitness` field to an individual; if this isn't set, then fitness has not been calculated. In Python we can simply introduce new attributes to objects by setting them, but this does not hold for some built-in objects such as lists, which we've been using for all our representations so far. We will thus introduce a wrapper class for a list, simply for the sake of allowing us to cache fitness values:"
   ]
  },
  {
   "cell_type": "code",
   "execution_count": null,
   "metadata": {
    "slideshow": {
     "slide_type": "slide"
    }
   },
   "outputs": [],
   "source": [
    "class L(list):\n",
    "    \"\"\"\n",
    "    A subclass of list that can accept additional attributes.\n",
    "    Should be able to be used just like a regular list.\n",
    "    \"\"\"\n",
    "    def __new__(self, *args, **kwargs):\n",
    "        return super(L, self).__new__(self, args, kwargs)\n",
    "\n",
    "    def __init__(self, *args, **kwargs):\n",
    "        if len(args) == 1 and hasattr(args[0], '__iter__'):\n",
    "            list.__init__(self, args[0])\n",
    "        else:\n",
    "            list.__init__(self, args)\n",
    "        self.__dict__.update(kwargs)\n",
    "\n",
    "    def __call__(self, **kwargs):\n",
    "        self.__dict__.update(kwargs)\n",
    "        return self"
   ]
  },
  {
   "cell_type": "markdown",
   "metadata": {
    "slideshow": {
     "slide_type": "skip"
    }
   },
   "source": [
    "We can now store the fitness values of individuals as attributes of the objects"
   ]
  },
  {
   "cell_type": "code",
   "execution_count": null,
   "metadata": {
    "slideshow": {
     "slide_type": "slide"
    }
   },
   "outputs": [],
   "source": [
    "def evaluate(individual):\n",
    "    individual.fitness1 = function1(individual)\n",
    "    individual.fitness2 = function2(individual)"
   ]
  },
  {
   "cell_type": "markdown",
   "metadata": {
    "slideshow": {
     "slide_type": "skip"
    }
   },
   "source": [
    "We will keep individuals immutable, such that mutation or crossover do not change any values and we never need to recalculate fitness values. But we need to update operations that produce new individuals to calculate the fitness value on these, i.e. when creating random individuals, and when mutating them (we do not need to evaluate fitness after crossover, since we always call `mutate` after crossover). We can now instantiate random individuals of NRP solutions using instances of `L` rather than lists:"
   ]
  },
  {
   "cell_type": "code",
   "execution_count": null,
   "metadata": {
    "slideshow": {
     "slide_type": "fragment"
    }
   },
   "outputs": [],
   "source": [
    "def get_random_individual():\n",
    "    individual = L(random.choice([0,1]) for _ in range(num_requirements))\n",
    "    evaluate(individual)\n",
    "    return individual"
   ]
  },
  {
   "cell_type": "code",
   "execution_count": null,
   "metadata": {
    "slideshow": {
     "slide_type": "fragment"
    }
   },
   "outputs": [],
   "source": [
    "def mutate(solution):\n",
    "    P_mutate = 1/len(solution)\n",
    "    mutated = L(solution[:])\n",
    "    for position in range(len(solution)):\n",
    "        if random.random() < P_mutate:\n",
    "            mutated[position] = 1 - mutated[position]\n",
    "    evaluate(mutated)\n",
    "    return mutated"
   ]
  },
  {
   "cell_type": "markdown",
   "metadata": {
    "slideshow": {
     "slide_type": "skip"
    }
   },
   "source": [
    "We can check that the fields are set correctly:"
   ]
  },
  {
   "cell_type": "code",
   "execution_count": null,
   "metadata": {
    "slideshow": {
     "slide_type": "fragment"
    }
   },
   "outputs": [],
   "source": [
    "x = get_random_individual()\n",
    "print(f\"Fitness 1: {x.fitness1}, fitness 2: {x.fitness2}\")"
   ]
  },
  {
   "cell_type": "markdown",
   "metadata": {
    "slideshow": {
     "slide_type": "slide"
    }
   },
   "source": [
    "### Weighted Fitness"
   ]
  },
  {
   "cell_type": "markdown",
   "metadata": {
    "slideshow": {
     "slide_type": "skip"
    }
   },
   "source": [
    "A basic way to apply metaheuristic search algorithms to problems such as NRP where we have more than one optimisation goal is to build a linear combination of the individual objective values to form a single fitness value. When doing this, one has to assign weights to measure the trade-off between the different objectives. We also need to take care in combining our two fitness values, as one is a maximisation problem and the other is a minimisation problem. We can convert the cost-function to a maximisation problem by deducting the costs from the `total_costs`:"
   ]
  },
  {
   "cell_type": "code",
   "execution_count": null,
   "metadata": {
    "slideshow": {
     "slide_type": "fragment"
    }
   },
   "outputs": [],
   "source": [
    "def get_fitness(individual):\n",
    "    # Maximise profit (fitness1), minimise cost (fitness 2)\n",
    "    return 10*individual.fitness1 + (total_costs - individual.fitness2)"
   ]
  },
  {
   "cell_type": "markdown",
   "metadata": {
    "slideshow": {
     "slide_type": "skip"
    }
   },
   "source": [
    "While we can look at the evolution of this fitness value over time, it is also of interest to see how the individual fitness values evolve independently. For this we need to look at a two-dimensional plot like above, for each iteration of the algorithm. To achieve this, we will produce an animation."
   ]
  },
  {
   "cell_type": "code",
   "execution_count": null,
   "metadata": {
    "slideshow": {
     "slide_type": "slide"
    }
   },
   "outputs": [],
   "source": [
    "ims = []  # global variable to store images of the animation\n",
    "fitness_values = []\n",
    "    \n",
    "def initialise_plot():\n",
    "    global ims\n",
    "    global fitness_values\n",
    "    global fig\n",
    "    global ax\n",
    "    \n",
    "    ims = []\n",
    "    fitness_values = []\n",
    "\n",
    "    %matplotlib agg\n",
    "    fig, ax = plt.subplots()\n",
    "    plt.xlabel('Profit', fontsize=15)\n",
    "    plt.ylabel('Cost', fontsize=15)\n",
    "    ims = []\n",
    "    %matplotlib inline"
   ]
  },
  {
   "cell_type": "markdown",
   "metadata": {
    "slideshow": {
     "slide_type": "skip"
    }
   },
   "source": [
    "For each iteration of the algorithm, we will update this animation with a snapshot of the current population and their fitness values:"
   ]
  },
  {
   "cell_type": "code",
   "execution_count": null,
   "metadata": {
    "slideshow": {
     "slide_type": "fragment"
    }
   },
   "outputs": [],
   "source": [
    "def plot(population):\n",
    "    function1_values = [x.fitness1 for x in population]\n",
    "    function2_values = [x.fitness2 for x in population]\n",
    "    \n",
    "    ims.append((ax.scatter(function1_values, function2_values, color=\"blue\"),))"
   ]
  },
  {
   "cell_type": "markdown",
   "metadata": {
    "slideshow": {
     "slide_type": "skip"
    }
   },
   "source": [
    "We will start with a simple genetic algorithm again, which means we also need a selection operator:"
   ]
  },
  {
   "cell_type": "code",
   "execution_count": null,
   "metadata": {
    "slideshow": {
     "slide_type": "slide"
    }
   },
   "outputs": [],
   "source": [
    "tournament_size=3\n",
    "def tournament_selection(population):\n",
    "    candidates = random.sample(population, tournament_size)\n",
    "    return max(candidates, key=lambda x:get_fitness(x))"
   ]
  },
  {
   "cell_type": "markdown",
   "metadata": {
    "slideshow": {
     "slide_type": "skip"
    }
   },
   "source": [
    "Note that we do call `get_fitness` here again, but it just calculates the weighted sum of the already stored objective values, so we will not count it towards the total fitness evaluations."
   ]
  },
  {
   "cell_type": "markdown",
   "metadata": {
    "slideshow": {
     "slide_type": "skip"
    }
   },
   "source": [
    "We can also keep elitism unchanged without it requiring potentially costly fitness computations:"
   ]
  },
  {
   "cell_type": "code",
   "execution_count": null,
   "metadata": {
    "slideshow": {
     "slide_type": "fragment"
    }
   },
   "outputs": [],
   "source": [
    "elite_size = 1\n",
    "def elitism(population):\n",
    "    population.sort(key=lambda k: get_fitness(k), reverse=True)\n",
    "    return population[:elite_size]"
   ]
  },
  {
   "cell_type": "markdown",
   "metadata": {
    "slideshow": {
     "slide_type": "skip"
    }
   },
   "source": [
    "Finally, we also need to update our crossover operator to use our wrapper `L` class. However, we don't need to calculate fitness here since this already happens in the mutation operator. (This is a simplifcation we can use in the specific algorithm we have implemented, and it may not generalise. More generally, one would use an explicit evaluation step in the search algorithm)."
   ]
  },
  {
   "cell_type": "code",
   "execution_count": null,
   "metadata": {
    "slideshow": {
     "slide_type": "fragment"
    }
   },
   "outputs": [],
   "source": [
    "def crossover(parent1, parent2):\n",
    "    pos = random.randint(0, len(parent1))\n",
    "    offspring1 = L(parent1[:pos] + parent2[pos:])\n",
    "    offspring2 = L(parent2[:pos] + parent1[pos:])\n",
    "    return (offspring1, offspring2)"
   ]
  },
  {
   "cell_type": "code",
   "execution_count": null,
   "metadata": {
    "slideshow": {
     "slide_type": "fragment"
    }
   },
   "outputs": [],
   "source": [
    "population_size = 20\n",
    "P_xover = 0.7\n",
    "max_gen = 100\n",
    "selection = tournament_selection"
   ]
  },
  {
   "cell_type": "markdown",
   "metadata": {
    "slideshow": {
     "slide_type": "skip"
    }
   },
   "source": [
    "We can update the genetic algorithm to use our updated functions, which reduces the clutter a bit compared to previous versions. Going forward, we will compare algorithms on multi-objective problems in terms of iterations rather than individual fitness evaluations, since we want to look at the evolution of the entire population."
   ]
  },
  {
   "cell_type": "code",
   "execution_count": null,
   "metadata": {
    "slideshow": {
     "slide_type": "slide"
    }
   },
   "outputs": [],
   "source": [
    "def ga():\n",
    "    initialise_plot()\n",
    "    population = [get_random_individual() for _ in range(population_size)]\n",
    "    best_fitness = -1\n",
    "    for p in population:\n",
    "        fitness = get_fitness(p)\n",
    "        if fitness > best_fitness:\n",
    "            best_fitness = fitness\n",
    "        fitness_values.append(best_fitness)\n",
    "\n",
    "    for iteration in range(max_gen):\n",
    "        plot(population)\n",
    "        new_population = elitism(population)\n",
    "        while len(new_population) < len(population):\n",
    "            parent1 = selection(population)\n",
    "            parent2 = selection(population)\n",
    "\n",
    "            if random.random() < P_xover:\n",
    "                offspring1, offspring2 = crossover(parent1, parent2)\n",
    "            else:\n",
    "                offspring1, offspring2 = parent1, parent2\n",
    "\n",
    "            offspring1 = mutate(offspring1)\n",
    "            offspring2 = mutate(offspring2)\n",
    "            \n",
    "            new_population.append(offspring1)\n",
    "            new_population.append(offspring2)\n",
    "\n",
    "        population = new_population\n",
    "        for p in population:\n",
    "            fitness = get_fitness(p)\n",
    "            if fitness > best_fitness:\n",
    "                best_fitness = fitness\n",
    "                best_solution = p\n",
    "            fitness_values.append(best_fitness)\n",
    "\n",
    "    plot([best_solution])\n",
    "\n",
    "    return [best_solution]"
   ]
  },
  {
   "cell_type": "markdown",
   "metadata": {
    "slideshow": {
     "slide_type": "skip"
    }
   },
   "source": [
    "Calling the genetic algorithm now will use the weighted combination defined above, which weights profit higher than costs."
   ]
  },
  {
   "cell_type": "code",
   "execution_count": null,
   "metadata": {
    "slideshow": {
     "slide_type": "slide"
    }
   },
   "outputs": [],
   "source": [
    "fitness_values = []\n",
    "ga()"
   ]
  },
  {
   "cell_type": "markdown",
   "metadata": {
    "slideshow": {
     "slide_type": "skip"
    }
   },
   "source": [
    "The overall fitness values look like any other fitness function we have seen in the past."
   ]
  },
  {
   "cell_type": "code",
   "execution_count": null,
   "metadata": {
    "scrolled": true,
    "slideshow": {
     "slide_type": "slide"
    }
   },
   "outputs": [],
   "source": [
    "plt.plot(fitness_values)"
   ]
  },
  {
   "cell_type": "markdown",
   "metadata": {
    "slideshow": {
     "slide_type": "skip"
    }
   },
   "source": [
    "To understand how the evolution affects the solutions with respect to the constituent objectives we need to consider their values over time (If you are looking at a PDF export, you will be missing this bit)."
   ]
  },
  {
   "cell_type": "code",
   "execution_count": null,
   "metadata": {
    "slideshow": {
     "slide_type": "slide"
    }
   },
   "outputs": [],
   "source": [
    "im_ani = animation.ArtistAnimation(fig, ims, interval=50, repeat_delay=3000, blit=True)\n",
    "HTML(im_ani.to_jshtml())"
   ]
  },
  {
   "cell_type": "markdown",
   "metadata": {
    "slideshow": {
     "slide_type": "skip"
    }
   },
   "source": [
    "Our weighted combination puts more focus on maximising profit than on minimising the costs, which you can see by the solutions moving towards the upper right corner of the plot. We can change the outcome of the search by changing that balance:"
   ]
  },
  {
   "cell_type": "code",
   "execution_count": null,
   "metadata": {
    "slideshow": {
     "slide_type": "slide"
    }
   },
   "outputs": [],
   "source": [
    "def get_fitness(individual):\n",
    "    # Maximise profit (fitness1), minimise cost (fitness 2)\n",
    "    return individual.fitness1 + 10*(total_costs - individual.fitness2)"
   ]
  },
  {
   "cell_type": "code",
   "execution_count": null,
   "metadata": {
    "slideshow": {
     "slide_type": "fragment"
    }
   },
   "outputs": [],
   "source": [
    "result = ga()"
   ]
  },
  {
   "cell_type": "markdown",
   "metadata": {
    "slideshow": {
     "slide_type": "skip"
    }
   },
   "source": [
    "Considering the combined fitness values there is no obvious difference except for the scale of the values:"
   ]
  },
  {
   "cell_type": "code",
   "execution_count": null,
   "metadata": {
    "slideshow": {
     "slide_type": "slide"
    }
   },
   "outputs": [],
   "source": [
    "plt.plot(fitness_values)"
   ]
  },
  {
   "cell_type": "markdown",
   "metadata": {
    "slideshow": {
     "slide_type": "skip"
    }
   },
   "source": [
    "Considering the evolution of both objectives is more telling again:"
   ]
  },
  {
   "cell_type": "code",
   "execution_count": null,
   "metadata": {
    "slideshow": {
     "slide_type": "slide"
    }
   },
   "outputs": [],
   "source": [
    "im_ani = animation.ArtistAnimation(fig, ims, interval=50, repeat_delay=3000, blit=True)\n",
    "HTML(im_ani.to_jshtml())"
   ]
  },
  {
   "cell_type": "markdown",
   "metadata": {
    "slideshow": {
     "slide_type": "skip"
    }
   },
   "source": [
    "The likely outcome is that using the adapted weights, when giving more preference to reducing costs, the resulting solution achieves little profit at all."
   ]
  },
  {
   "cell_type": "markdown",
   "metadata": {
    "slideshow": {
     "slide_type": "skip"
    }
   },
   "source": [
    "Maybe a better solution would be to use more similar weights for both components?"
   ]
  },
  {
   "cell_type": "code",
   "execution_count": null,
   "metadata": {
    "slideshow": {
     "slide_type": "slide"
    }
   },
   "outputs": [],
   "source": [
    "def get_fitness(individual):\n",
    "    # Maximise profit (fitness1), minimise cost (fitness 2)\n",
    "    return individual.fitness1 + 4 * (total_costs - individual.fitness2)"
   ]
  },
  {
   "cell_type": "code",
   "execution_count": null,
   "metadata": {
    "slideshow": {
     "slide_type": "fragment"
    }
   },
   "outputs": [],
   "source": [
    "result = ga()"
   ]
  },
  {
   "cell_type": "code",
   "execution_count": null,
   "metadata": {
    "slideshow": {
     "slide_type": "fragment"
    }
   },
   "outputs": [],
   "source": [
    "plt.plot(fitness_values)"
   ]
  },
  {
   "cell_type": "code",
   "execution_count": null,
   "metadata": {
    "slideshow": {
     "slide_type": "slide"
    }
   },
   "outputs": [],
   "source": [
    "im_ani = animation.ArtistAnimation(fig, ims, interval=50, repeat_delay=3000, blit=True)\n",
    "HTML(im_ani.to_jshtml())"
   ]
  },
  {
   "cell_type": "markdown",
   "metadata": {
    "slideshow": {
     "slide_type": "skip"
    }
   },
   "source": [
    "The result seems like a better compromise this time -- the profit increases, while the costs don't increase dramatically over time. Finding a balance in the weighting is not easy, and the solution we got in the end might not actually be a particularly good one."
   ]
  },
  {
   "cell_type": "markdown",
   "metadata": {
    "slideshow": {
     "slide_type": "slide"
    }
   },
   "source": [
    "## Pareto dominance"
   ]
  },
  {
   "cell_type": "markdown",
   "metadata": {
    "slideshow": {
     "slide_type": "skip"
    }
   },
   "source": [
    "An individual Pareto-dominates another one if and only if it has a strictly better fitness value for at least one objective without having a worse fitness value for any other objectives. This condition can be simply implemented as follows for our scenario with two objective functions, but for the sake of the example we will assume two maximising fitness functions:"
   ]
  },
  {
   "cell_type": "code",
   "execution_count": null,
   "metadata": {
    "slideshow": {
     "slide_type": "fragment"
    }
   },
   "outputs": [],
   "source": [
    "def dominates(solution1, solution2):\n",
    "    \"\"\"\n",
    "     A solution x(1) is said to dominate the other solution x(2) if both condition 1 and 2 below are true:\n",
    "\n",
    "     Condition 1: x(1) is no worse than x(2) for all objectives\n",
    "     Condition 2: x(1) is strictly better than x(2) in at least one objective\n",
    "    \"\"\"\n",
    "    if solution1.fitness1 < solution2.fitness1 or solution1.fitness2 < solution2.fitness2:\n",
    "        return False\n",
    "\n",
    "    if solution1.fitness1 > solution2.fitness1 or solution1.fitness2 > solution2.fitness2:\n",
    "        return True\n",
    "\n",
    "    return False"
   ]
  },
  {
   "cell_type": "markdown",
   "metadata": {
    "slideshow": {
     "slide_type": "skip"
    }
   },
   "source": [
    "For example, consider the following dummy individuals:"
   ]
  },
  {
   "cell_type": "code",
   "execution_count": null,
   "metadata": {
    "slideshow": {
     "slide_type": "slide"
    }
   },
   "outputs": [],
   "source": [
    "x1 = L()\n",
    "x1.fitness1 = 80\n",
    "x1.fitness2 = 60\n",
    "\n",
    "x2 = L()\n",
    "x2.fitness1 = 60\n",
    "x2.fitness2 = 80"
   ]
  },
  {
   "cell_type": "markdown",
   "metadata": {
    "slideshow": {
     "slide_type": "skip"
    }
   },
   "source": [
    "Individuals `x1` and `x2` do not dominate each other: `x1` has a better fitness value for `fitness1` while `x2` has a better fitness value for `fitness2`."
   ]
  },
  {
   "cell_type": "code",
   "execution_count": null,
   "metadata": {
    "slideshow": {
     "slide_type": "fragment"
    }
   },
   "outputs": [],
   "source": [
    "dominates(x1, x2)"
   ]
  },
  {
   "cell_type": "code",
   "execution_count": null,
   "metadata": {
    "slideshow": {
     "slide_type": "fragment"
    }
   },
   "outputs": [],
   "source": [
    "dominates(x2, x1)"
   ]
  },
  {
   "cell_type": "code",
   "execution_count": null,
   "metadata": {
    "slideshow": {
     "slide_type": "slide"
    }
   },
   "outputs": [],
   "source": [
    "x3 = L()\n",
    "x3.fitness1 = 80\n",
    "x3.fitness2 = 90\n",
    "\n",
    "x4 = L()\n",
    "x4.fitness1 = 90\n",
    "x4.fitness2 = 80"
   ]
  },
  {
   "cell_type": "markdown",
   "metadata": {
    "slideshow": {
     "slide_type": "skip"
    }
   },
   "source": [
    "Individual `x3` dominates both, `x1` and `x2`, as it is not worse in any of the fitness values, and it is better in at least one for each pair:"
   ]
  },
  {
   "cell_type": "code",
   "execution_count": null,
   "metadata": {
    "slideshow": {
     "slide_type": "fragment"
    }
   },
   "outputs": [],
   "source": [
    "dominates(x3, x1)"
   ]
  },
  {
   "cell_type": "code",
   "execution_count": null,
   "metadata": {
    "slideshow": {
     "slide_type": "fragment"
    }
   },
   "outputs": [],
   "source": [
    "dominates(x3, x2)"
   ]
  },
  {
   "cell_type": "markdown",
   "metadata": {
    "slideshow": {
     "slide_type": "skip"
    }
   },
   "source": [
    "Individual `x4` also dominates `x1` and `x2`:"
   ]
  },
  {
   "cell_type": "code",
   "execution_count": null,
   "metadata": {
    "slideshow": {
     "slide_type": "fragment"
    }
   },
   "outputs": [],
   "source": [
    "dominates(x4, x1)"
   ]
  },
  {
   "cell_type": "code",
   "execution_count": null,
   "metadata": {
    "slideshow": {
     "slide_type": "skip"
    }
   },
   "outputs": [],
   "source": [
    "dominates(x4, x2)"
   ]
  },
  {
   "cell_type": "markdown",
   "metadata": {
    "slideshow": {
     "slide_type": "skip"
    }
   },
   "source": [
    "However, `x3` and `x4` do not dominate each other:"
   ]
  },
  {
   "cell_type": "code",
   "execution_count": null,
   "metadata": {
    "slideshow": {
     "slide_type": "fragment"
    }
   },
   "outputs": [],
   "source": [
    "dominates(x4, x3)"
   ]
  },
  {
   "cell_type": "code",
   "execution_count": null,
   "metadata": {
    "slideshow": {
     "slide_type": "fragment"
    }
   },
   "outputs": [],
   "source": [
    "dominates(x3, x4)"
   ]
  },
  {
   "cell_type": "markdown",
   "metadata": {
    "slideshow": {
     "slide_type": "skip"
    }
   },
   "source": [
    "The solutions in a population can be sorted into Pareto _fronts_. Individuals within a front are non-dominating to each other. Fronts are sorted into levels; an individual in front _n_ is dominated by at least one individual in front _n-1_. The first front consists of solutions that are not dominated by any other candidate solutions."
   ]
  },
  {
   "cell_type": "code",
   "execution_count": null,
   "metadata": {
    "slideshow": {
     "slide_type": "slide"
    }
   },
   "outputs": [],
   "source": [
    "plt.plot([x1.fitness1, x2.fitness1], [x1.fitness2, x2.fitness2], 'ro-', label=\"Front 2\", color=\"blue\")\n",
    "plt.plot([x3.fitness1, x4.fitness1], [x3.fitness2, x4.fitness2], 'ro-', label=\"Front 1\")\n",
    "plt.legend()"
   ]
  },
  {
   "cell_type": "markdown",
   "metadata": {
    "slideshow": {
     "slide_type": "skip"
    }
   },
   "source": [
    "The principle of Pareto dominance is used by many multi-objective optimisation algorithms. The aim is to find a Pareto front that approximates the true Pareto front as closely as possible."
   ]
  },
  {
   "cell_type": "markdown",
   "metadata": {
    "slideshow": {
     "slide_type": "slide"
    }
   },
   "source": [
    "## NSGA-II"
   ]
  },
  {
   "cell_type": "markdown",
   "metadata": {
    "slideshow": {
     "slide_type": "skip"
    }
   },
   "source": [
    "As an example multi-objective adaptation of a genetic algorithm, we will consider the non-dominating sorting genetic algorithm, in its second incarnation, NSGA-II. This is one of the most popular multi-objective optimisation algorithms, and it is explained in detail in the following paper:\n",
    "\n",
    "K. Deb, A. Pratap, S. Agarwal, T. Meyarivan. A fast and elitist multiobjective genetic algorithm: NSGA-II. IEEE Transactions on Evolutionary Computation, 6(2), 182-197. 2002."
   ]
  },
  {
   "cell_type": "markdown",
   "metadata": {
    "slideshow": {
     "slide_type": "skip"
    }
   },
   "source": [
    "The overall workflow of the non-dominating sorting genetic algorithm (NSGA-II) is as follows, for each iteration of the algorithm:\n",
    "\n",
    "1. Combine parent generation $P_i$ and offspring $O_i$\n",
    "2. Sort combined population into Pareto fronts $F$\n",
    "3. Create new generation $P_{t+1}$ as empty set\n",
    "4. For each front in $F$: Copy front into $P_{t+1}$ if the entire front fits into $P_{t+1}$\n",
    "5. Let $F_i$ be the first front that does not completely fit into $P_{t+1}$. Sort $F_i$ by crowding distance\n",
    "6. Select the first $n$ individuals from $F_i$, if there are $n$ remaining places in $P_{t+1}$.\n",
    "7. Create offspring population $Q_{t+1}$"
   ]
  },
  {
   "cell_type": "markdown",
   "metadata": {
    "slideshow": {
     "slide_type": "skip"
    }
   },
   "source": [
    "The first aspect of this algorithm is the sorting of populations into Pareto fronts. This is done by determining for each individual in the population (1) how many other individuals it is dominated by, and (2) which individuals it dominates. Then, we can iteratively build fronts by selecting individuals that have a domination counter of 0, and reducing the domination counter of all the individuals they dominate by 1:"
   ]
  },
  {
   "cell_type": "code",
   "execution_count": null,
   "metadata": {
    "slideshow": {
     "slide_type": "slide"
    }
   },
   "outputs": [],
   "source": [
    "def fast_non_dominated_sort(solutions):\n",
    "    front = [[]]\n",
    "\n",
    "    S = [[] for _ in range(len(solutions))]\n",
    "    n = [0 for _ in range(len(solutions))]\n",
    "\n",
    "    for p in range(len(solutions)):\n",
    "        S[p] = []\n",
    "        n[p] = 0\n",
    "        for q in range(len(solutions)):\n",
    "            if dominates(solutions[p], solutions[q]):\n",
    "                S[p].append(q)\n",
    "            elif dominates(solutions[q], solutions[p]):\n",
    "                n[p] = n[p] + 1\n",
    "\n",
    "        if n[p] == 0:\n",
    "            front[0].append(p)\n",
    "            solutions[p].rank = 0\n",
    "\n",
    "    i = 0\n",
    "    while front[i]:\n",
    "        Q = []\n",
    "        for p in front[i]:\n",
    "            for q in S[p]:\n",
    "                n[q] = n[q] - 1\n",
    "                if n[q] == 0:\n",
    "                    Q.append(q)\n",
    "                    solutions[q].rank = i + 1\n",
    "        i = i + 1\n",
    "        front.append(Q)\n",
    "\n",
    "    del front[-1]\n",
    "    return front"
   ]
  },
  {
   "cell_type": "markdown",
   "metadata": {
    "slideshow": {
     "slide_type": "skip"
    }
   },
   "source": [
    "We are storing the rank in the current population in the attribute `rank`, which we will need later during selection."
   ]
  },
  {
   "cell_type": "markdown",
   "metadata": {
    "slideshow": {
     "slide_type": "skip"
    }
   },
   "source": [
    "We can try this using our example individuals from above:"
   ]
  },
  {
   "cell_type": "code",
   "execution_count": null,
   "metadata": {
    "slideshow": {
     "slide_type": "slide"
    }
   },
   "outputs": [],
   "source": [
    "fast_non_dominated_sort([x1, x2, x3, x4])"
   ]
  },
  {
   "cell_type": "markdown",
   "metadata": {
    "slideshow": {
     "slide_type": "skip"
    }
   },
   "source": [
    "As you can see, the algorithm returns the indices of the individuals rather than copies of the individuals."
   ]
  },
  {
   "cell_type": "markdown",
   "metadata": {
    "hideCode": true,
    "slideshow": {
     "slide_type": "skip"
    }
   },
   "source": [
    "The next new aspect of the NSGA-II algorithm occurs when the next front does not entirely fit into the next generation. In this case, we need to sort the next front by crowding distance, such that we can select the most diverse individuals. For each objective function we sort the individuals by their objective value. We then calculate a crowding distance value for each individual. The individuals with minimum and maximum fitness values are assigned a very large crowding distance to ensure they are ranked first (we just use a very large value of `sys.maxsize` to ensure that). All other individuals are assigned the sum of distance values between their neighbours in objective space for all objectives:"
   ]
  },
  {
   "cell_type": "code",
   "execution_count": null,
   "metadata": {
    "slideshow": {
     "slide_type": "slide"
    }
   },
   "outputs": [],
   "source": [
    "def calculate_crowding_distance_and_sort(front):\n",
    "\n",
    "    data = [(x, front[x].fitness1, front[x].fitness2) for x in range(len(front))]\n",
    "    sorted1 = [(x, y) for (x, y, z) in sorted(data, key=lambda tup: tup[1])]\n",
    "    sorted2 = [(x, z) for (x, y, z) in sorted(data, key=lambda tup: tup[2])]\n",
    "\n",
    "    distance = [0 for _ in range(0,len(front))]\n",
    "    range_fitness1 = max(x.fitness1 for x in front) - min(x.fitness1 for x in front)\n",
    "    range_fitness2 = max(x.fitness2 for x in front) - min(x.fitness2 for x in front)\n",
    "\n",
    "    distance[sorted1[0][0]] = sys.maxsize\n",
    "    distance[sorted1[-1][0]] = sys.maxsize\n",
    "\n",
    "    distance[sorted2[0][0]] = sys.maxsize\n",
    "    distance[sorted2[-1][0]] = sys.maxsize\n",
    "\n",
    "    for k in range(1,len(front)-1):\n",
    "        index = sorted1[k][0]\n",
    "        distance[index] = distance[index] + (sorted1[k+1][1] - sorted1[k-1][1]) / range_fitness1\n",
    "\n",
    "    for k in range(1,len(front)-1):\n",
    "        index = sorted2[k][0]\n",
    "        distance[index] = distance[index] + (sorted2[k+1][1] - sorted2[k-1][1]) / range_fitness2\n",
    "\n",
    "    for k in range(0, len(front)):\n",
    "        front[k].distance = distance[k]\n",
    "\n",
    "    front.sort(key = lambda i: i.distance, reverse=True)"
   ]
  },
  {
   "cell_type": "markdown",
   "metadata": {
    "slideshow": {
     "slide_type": "skip"
    }
   },
   "source": [
    "The algorithm expects a front in terms of the actual individuals rather than indices. We need to extend our example fronts now though, because the individuals with the minimum and maximum value for each objective function are always sorted first, and the fronts in our previous examples consist only of two individuals each."
   ]
  },
  {
   "cell_type": "code",
   "execution_count": null,
   "metadata": {
    "slideshow": {
     "slide_type": "slide"
    }
   },
   "outputs": [],
   "source": [
    "x1 = L(1)\n",
    "x1.fitness1 = 90\n",
    "x1.fitness2 = 50\n",
    "\n",
    "x2 = L(2)\n",
    "x2.fitness1 = 60\n",
    "x2.fitness2 = 80\n",
    "\n",
    "x3 = L(3)\n",
    "x3.fitness1 = 80\n",
    "x3.fitness2 = 60\n",
    "\n",
    "x4 = L(4)\n",
    "x4.fitness1 = 50\n",
    "x4.fitness2 = 90\n",
    "\n",
    "x5 = L(5)\n",
    "x5.fitness1 = 92\n",
    "x5.fitness2 = 95\n",
    "\n",
    "x6 = L(6)\n",
    "x6.fitness1 = 99\n",
    "x6.fitness2 = 90\n",
    "\n",
    "x7 = L(7)\n",
    "x7.fitness1 = 99\n",
    "x7.fitness2 = 90\n",
    "\n",
    "x8 = L(8)\n",
    "x8.fitness1 = 95\n",
    "x8.fitness2 = 92"
   ]
  },
  {
   "cell_type": "markdown",
   "metadata": {
    "slideshow": {
     "slide_type": "skip"
    }
   },
   "source": [
    "There are still two fronts in our example population:"
   ]
  },
  {
   "cell_type": "code",
   "execution_count": null,
   "metadata": {
    "slideshow": {
     "slide_type": "slide"
    }
   },
   "outputs": [],
   "source": [
    "fast_non_dominated_sort([x1, x2, x3, x4, x5, x6, x7, x8])"
   ]
  },
  {
   "cell_type": "markdown",
   "metadata": {
    "slideshow": {
     "slide_type": "skip"
    }
   },
   "source": [
    "To apply our sorting we need to pass in the actual individuals, in order to access their fitness values."
   ]
  },
  {
   "cell_type": "code",
   "execution_count": null,
   "metadata": {
    "slideshow": {
     "slide_type": "fragment"
    }
   },
   "outputs": [],
   "source": [
    "pop = [x1, x2, x3, x4, x5, x6, x7, x8]\n",
    "front1 = [pop[index] for index in fast_non_dominated_sort(pop)[0]]\n",
    "calculate_crowding_distance_and_sort(front1)\n",
    "\n",
    "# Print population indices of sorted front1\n",
    "[pop.index(x) for x in front1]"
   ]
  },
  {
   "cell_type": "markdown",
   "metadata": {
    "slideshow": {
     "slide_type": "skip"
    }
   },
   "source": [
    "The individuals at index 5 and 6 (`x6` and `x7`) are ranked first, because they are at the max and min of the fitness scores for the two objectives. The individuals `x4` and `x8` are ranked afterwards."
   ]
  },
  {
   "cell_type": "markdown",
   "metadata": {
    "slideshow": {
     "slide_type": "skip"
    }
   },
   "source": [
    "To generate an offspring population, NSGA-II uses binary tournament selection, but since there isn't a single fitness value to compare, the winner of the tournament is determined by the rank in the fronts as well as the crowding distance. An individual is selected if the rank is less than the rank of the other individual, or if the crowding distance is greater than that of the other individual."
   ]
  },
  {
   "cell_type": "code",
   "execution_count": null,
   "metadata": {
    "slideshow": {
     "slide_type": "slide"
    }
   },
   "outputs": [],
   "source": [
    "def binary_rank_tournament(population):\n",
    "    individual1 = random.choice(population)\n",
    "    individual2 = random.choice(population)\n",
    "\n",
    "    if individual1.rank < individual2.rank:\n",
    "        return individual1\n",
    "    elif individual1.rank > individual2.rank:\n",
    "        return individual2\n",
    "    else:\n",
    "        return max([individual1, individual2], key = lambda i: i.distance)"
   ]
  },
  {
   "cell_type": "markdown",
   "metadata": {
    "slideshow": {
     "slide_type": "skip"
    }
   },
   "source": [
    "The use of crowding distance during parent and survivor selection serves to increase diversity. To see whether this is achieved, we will keep track of population diversity again."
   ]
  },
  {
   "cell_type": "markdown",
   "metadata": {
    "slideshow": {
     "slide_type": "skip"
    }
   },
   "source": [
    "Besides this selection operator, crossover and mutation are applied as usual to derive a new generation:"
   ]
  },
  {
   "cell_type": "code",
   "execution_count": null,
   "metadata": {
    "slideshow": {
     "slide_type": "slide"
    }
   },
   "outputs": [],
   "source": [
    "def generate_offspring(population):\n",
    "    offspring_population = []\n",
    "    while len(offspring_population) < len(population):\n",
    "        parent1 = binary_rank_tournament(population)\n",
    "        parent2 = binary_rank_tournament(population)\n",
    "        if random.random() < P_xover:\n",
    "            offspring1, offspring2 = crossover(parent1, parent2)\n",
    "        else:\n",
    "            offspring1, offspring2 = parent1, parent2\n",
    "            \n",
    "        offspring1 = mutate(offspring1)\n",
    "        offspring2 = mutate(offspring2)\n",
    "\n",
    "        offspring_population.append(offspring1)\n",
    "        offspring_population.append(offspring2)\n",
    "\n",
    "    return offspring_population"
   ]
  },
  {
   "cell_type": "markdown",
   "metadata": {
    "slideshow": {
     "slide_type": "skip"
    }
   },
   "source": [
    "Since NSGA-II starts immediately by creating an offspring population, we require information about the ranks and crowding distance already for the initial population."
   ]
  },
  {
   "cell_type": "code",
   "execution_count": null,
   "metadata": {
    "slideshow": {
     "slide_type": "slide"
    }
   },
   "outputs": [],
   "source": [
    "def get_initial_population(population_size):\n",
    "    population = [get_random_individual() for _ in range(population_size)]\n",
    "    fronts = fast_non_dominated_sort(population)\n",
    "    \n",
    "    for front_indices in fronts:\n",
    "        front = [population[index] for index in front_indices]\n",
    "        calculate_crowding_distance_and_sort(front)\n",
    "\n",
    "    return population"
   ]
  },
  {
   "cell_type": "markdown",
   "metadata": {
    "slideshow": {
     "slide_type": "skip"
    }
   },
   "source": [
    "Before we can apply NSGA-II on our NRP problem, we need to update the dominator relation, since we are maximising profit but minimising costs (the previous definition of domination assumed maximisation of both objectives)."
   ]
  },
  {
   "cell_type": "code",
   "execution_count": null,
   "metadata": {
    "slideshow": {
     "slide_type": "slide"
    }
   },
   "outputs": [],
   "source": [
    "def dominates(solution1, solution2):\n",
    "    \"\"\"\n",
    "     A solution x(1) is said to dominate the other solution x(2) if both condition 1 and 2 below are true:\n",
    "\n",
    "     Condition 1: x(1) is no worse than x(2) for all objectives\n",
    "     Condition 2: x(1) is strictly better than x(2) in at least one objective\n",
    "     \n",
    "     We are maximising fitness 1, but minimising fitness 2\n",
    "    \"\"\"\n",
    "    if solution1.fitness1 < solution2.fitness1 or solution1.fitness2 > solution2.fitness2:\n",
    "        return False\n",
    "\n",
    "    if solution1.fitness1 > solution2.fitness1 or solution1.fitness2 < solution2.fitness2:\n",
    "        return True\n",
    "\n",
    "    return False"
   ]
  },
  {
   "cell_type": "markdown",
   "metadata": {
    "slideshow": {
     "slide_type": "skip"
    }
   },
   "source": [
    "With this, we can implement the full algorithm."
   ]
  },
  {
   "cell_type": "code",
   "execution_count": null,
   "metadata": {
    "slideshow": {
     "slide_type": "slide"
    }
   },
   "outputs": [],
   "source": [
    "def nsgaii():\n",
    "    initialise_plot()\n",
    "    population = get_initial_population(population_size)\n",
    "    offspring_population = generate_offspring(population)\n",
    "\n",
    "    for iteration in range(max_gen):\n",
    "        print(\"Iteration {}\".format(iteration))\n",
    "\n",
    "        combined = population + offspring_population\n",
    "        plot(combined)\n",
    "        fronts = fast_non_dominated_sort(combined)\n",
    "        population = []\n",
    "\n",
    "        for front_indices in fronts:\n",
    "            front = [combined[index] for index in front_indices]\n",
    "            calculate_crowding_distance_and_sort(front)\n",
    "\n",
    "            for i in front:\n",
    "                population.append(i)\n",
    "                if len(population) == population_size:\n",
    "                    break\n",
    "            if len(population) == population_size:\n",
    "                break\n",
    "\n",
    "        offspring_population = generate_offspring(population)\n",
    "\n",
    "    non_dominated_sorted_solution = fast_non_dominated_sort(population)\n",
    "    result = [population[x] for x in non_dominated_sorted_solution[0]]\n",
    "    plot(result)\n",
    "\n",
    "    for p in result:\n",
    "        print(\"Result: {}, Profit: {}, Cost: {}\".format([x for x in range(len(p)) if p[x] == 1], function1(p), function2(p)))\n",
    "    return result"
   ]
  },
  {
   "cell_type": "code",
   "execution_count": null,
   "metadata": {
    "slideshow": {
     "slide_type": "slide"
    }
   },
   "outputs": [],
   "source": [
    "result = nsgaii()"
   ]
  },
  {
   "cell_type": "markdown",
   "metadata": {
    "slideshow": {
     "slide_type": "skip"
    }
   },
   "source": [
    "Now let's look at how the population evolves in terms of our two objectives."
   ]
  },
  {
   "cell_type": "code",
   "execution_count": null,
   "metadata": {
    "scrolled": true,
    "slideshow": {
     "slide_type": "slide"
    }
   },
   "outputs": [],
   "source": [
    "im_ani = animation.ArtistAnimation(fig, ims, interval=50, repeat_delay=3000, blit=True)\n",
    "HTML(im_ani.to_jshtml())"
   ]
  },
  {
   "cell_type": "markdown",
   "metadata": {
    "slideshow": {
     "slide_type": "skip"
    }
   },
   "source": [
    "Intuitively, the population of the NSGAII spreads out further across the search space, and appears to cover more and better parts of the Pareto front."
   ]
  },
  {
   "cell_type": "markdown",
   "metadata": {
    "slideshow": {
     "slide_type": "skip"
    }
   },
   "source": [
    "Did NSGAII actually produce better solutions? The answer is not so easy because the algorithm does not produce a single solution, but an entire Pareto front which consists of non-dominating solutions. \n",
    "\n",
    "Let's run some experiments on both algorithms and then try to compare the algorithms:"
   ]
  },
  {
   "cell_type": "code",
   "execution_count": null,
   "metadata": {
    "slideshow": {
     "slide_type": "slide"
    }
   },
   "outputs": [],
   "source": [
    "from IPython.utils import io\n",
    "\n",
    "def run_times(algorithm, repetitions):\n",
    "    global fitness_values, ims\n",
    "    result = []\n",
    "    for i in range(repetitions):\n",
    "        ims = []\n",
    "        fitness_values = []\n",
    "        with io.capture_output() as captured: \n",
    "            front = algorithm()\n",
    "        result.append(front)\n",
    "    return result"
   ]
  },
  {
   "cell_type": "code",
   "execution_count": null,
   "metadata": {
    "slideshow": {
     "slide_type": "fragment"
    }
   },
   "outputs": [],
   "source": [
    "solutions_ga = run_times(ga, 10)"
   ]
  },
  {
   "cell_type": "code",
   "execution_count": null,
   "metadata": {
    "slideshow": {
     "slide_type": "fragment"
    }
   },
   "outputs": [],
   "source": [
    "fronts_nsgaii = run_times(nsgaii, 10)"
   ]
  },
  {
   "cell_type": "markdown",
   "metadata": {
    "slideshow": {
     "slide_type": "skip"
    }
   },
   "source": [
    "The GA gives us a single value, while NSGA-II gives us a choice in terms of the Pareto front. One thing we can check is whether in the Pareto front there are values that are better than those produced by the GA:"
   ]
  },
  {
   "cell_type": "code",
   "execution_count": null,
   "metadata": {
    "slideshow": {
     "slide_type": "slide"
    }
   },
   "outputs": [],
   "source": [
    "function1_values = []\n",
    "function2_values = []\n",
    "function1_ga = []\n",
    "function2_ga = []\n",
    "\n",
    "for front in fronts_nsgaii:\n",
    "    function1_values.append(max([solution.fitness1 for solution in front]))\n",
    "    function2_values.append(min([solution.fitness2 for solution in front]))\n",
    "        \n",
    "for solution in solutions_ga:\n",
    "    function1_ga.append(solution[0].fitness1)\n",
    "    function2_ga.append(solution[0].fitness2)\n",
    "\n",
    "results = {\"GA\"      : function1_ga, \n",
    "           \"NSGA-II\" : function1_values }"
   ]
  },
  {
   "cell_type": "code",
   "execution_count": null,
   "metadata": {
    "slideshow": {
     "slide_type": "slide"
    }
   },
   "outputs": [],
   "source": [
    "fig, axes = plt.subplots(nrows=1, ncols=2, figsize=(12, 4))\n",
    "axes[0].boxplot(results.values())\n",
    "axes[0].set_xticklabels(results.keys())\n",
    "\n",
    "results = {\"GA\"      : function2_ga, \n",
    "           \"NSGA-II\" : function2_values }\n",
    "axes[1].boxplot(results.values())\n",
    "axes[1].set_xticklabels(results.keys())\n",
    "\n",
    "axes[0].set_title('Profit')\n",
    "axes[1].set_title('Cost')"
   ]
  },
  {
   "cell_type": "markdown",
   "metadata": {
    "slideshow": {
     "slide_type": "skip"
    }
   },
   "source": [
    "NSGA-II usually is able to produce solutions with higher profit and with lower costs. But what if we want a compromise, rather than extremes? The question really is whether the Pareto front itself covers different trade-offs better, so we need to move from comparing individual fitness values to comparing entire Pareto fronts."
   ]
  },
  {
   "cell_type": "markdown",
   "metadata": {
    "slideshow": {
     "slide_type": "slide"
    }
   },
   "source": [
    "## Comparing multi-objective optimisation algorithms"
   ]
  },
  {
   "cell_type": "markdown",
   "metadata": {
    "slideshow": {
     "slide_type": "skip"
    }
   },
   "source": [
    "Comparison of the results of multi-objective algorithms is not as straightforward as comparing two scalar values. Empirical evaluation of different MOEAs becomes a meta-comparison: it is not only about the domain-specific quality, but it is also about the quality of the front itself. Properties that we want to evaluate are the closeness to the true Pareto front, as well as the diversity of the solutions on the Pareto front.  "
   ]
  },
  {
   "cell_type": "markdown",
   "metadata": {
    "slideshow": {
     "slide_type": "fragment"
    }
   },
   "source": [
    "### Closeness to the true front"
   ]
  },
  {
   "cell_type": "markdown",
   "metadata": {
    "slideshow": {
     "slide_type": "skip"
    }
   },
   "source": [
    "For some problems, the true front is indeed known -- for example for benchmark problems which are specifically constructed to compare algorithms. If the true front is not known, it is also possible to approximate it by collecting all known solutions from all MOEAs involved, and extracting a single Pareto front from the collected solutions. "
   ]
  },
  {
   "cell_type": "markdown",
   "metadata": {
    "slideshow": {
     "slide_type": "skip"
    }
   },
   "source": [
    "Given a reference front $\\Lambda = \\{ y_1, y_2, \\ldots, y_r\\}$ (even if approximated) we can calculate the closeness of a solution set $V$ obtained by a MOEA using one of the following two metrics:\n",
    "\n",
    "\n",
    "- IGD: average distance from each reference point to its closest solution.\n",
    "$IGD(V,\\Lambda) = \\frac{1}{r}\\left(\\displaystyle\\sum_{i=1}^r d(y_i, V)^2 \\right)^{1/2}$\n",
    "\n",
    "- GD: average distance from each solution to its closest reference point:\n",
    "$GD(V, \\Lambda) = IGD(\\Lambda,V)$\n"
   ]
  },
  {
   "cell_type": "markdown",
   "metadata": {
    "slideshow": {
     "slide_type": "skip"
    }
   },
   "source": [
    "These metrics represent how far the front produced by a search algorithm is from the true Pareto front $\\lambda$. Lower values of GD/IGD represent better performance; IGD is usually preferred because it does not require any parts of the true Pareto set in the comparison."
   ]
  },
  {
   "cell_type": "code",
   "execution_count": null,
   "metadata": {
    "slideshow": {
     "slide_type": "fragment"
    }
   },
   "outputs": [],
   "source": [
    "from math import sqrt\n",
    "def distance(solution, front):\n",
    "    min_distance = None\n",
    "    \n",
    "    for y in front:\n",
    "        a = solution.fitness1 - y.fitness1\n",
    "        b = solution.fitness2 - y.fitness2\n",
    "        d = sqrt(a*a + b*b)\n",
    "        if min_distance == None or d < min_distance:\n",
    "            min_distance = d\n",
    "    \n",
    "    return min_distance"
   ]
  },
  {
   "cell_type": "code",
   "execution_count": null,
   "metadata": {
    "slideshow": {
     "slide_type": "slide"
    }
   },
   "outputs": [],
   "source": [
    "def igd(front, reference_front):\n",
    "    r = len(reference_front)\n",
    "\n",
    "    sum_distances = 0\n",
    "    for i in range(r):\n",
    "        sum_distances += distance(reference_front[i], front) ** 2\n",
    "    \n",
    "    d = sqrt(sum_distances) / r\n",
    "    \n",
    "    return d"
   ]
  },
  {
   "cell_type": "markdown",
   "metadata": {
    "slideshow": {
     "slide_type": "skip"
    }
   },
   "source": [
    "Let's set up an artificial example as above, with two fronts:"
   ]
  },
  {
   "cell_type": "code",
   "execution_count": null,
   "metadata": {
    "slideshow": {
     "slide_type": "slide"
    }
   },
   "outputs": [],
   "source": [
    "x1, x2, x3, x4, x5, x6, x7, x8 = L(1), L(2), L(3), L(4), L(5), L(6), L(7), L(8)\n",
    "\n",
    "x1.fitness1, x1.fitness2 = 90, 50\n",
    "x2.fitness1, x2.fitness2 = 60, 80\n",
    "x3.fitness1, x3.fitness2 = 80, 60\n",
    "x4.fitness1, x4.fitness2 = 50, 90\n",
    "\n",
    "x5.fitness1, x5.fitness2 = 92, 95\n",
    "x6.fitness1, x6.fitness2 = 99, 90\n",
    "x7.fitness1, x7.fitness2 = 99, 90\n",
    "x8.fitness1, x8.fitness2 = 95, 92\n",
    "\n",
    "y1, y2 = L(1), L(2)\n",
    "y1.fitness1, y1.fitness2 = 100, 99\n",
    "y2.fitness1, y2.fitness2 = 99, 100\n",
    "\n",
    "front1 = [x1, x2, x3, x4]\n",
    "front2 = [x5, x6, x7, x8]\n",
    "\n",
    "reference_front = [y1, y2]"
   ]
  },
  {
   "cell_type": "markdown",
   "metadata": {
    "slideshow": {
     "slide_type": "skip"
    }
   },
   "source": [
    "As you may recall from the example above, `front2` is better than `front1`, and we would like to see this reflected in their `igd` values:"
   ]
  },
  {
   "cell_type": "code",
   "execution_count": null,
   "metadata": {
    "slideshow": {
     "slide_type": "fragment"
    }
   },
   "outputs": [],
   "source": [
    "igd(front1, reference_front)"
   ]
  },
  {
   "cell_type": "code",
   "execution_count": null,
   "metadata": {
    "slideshow": {
     "slide_type": "fragment"
    }
   },
   "outputs": [],
   "source": [
    "igd(front2, reference_front)"
   ]
  },
  {
   "cell_type": "markdown",
   "metadata": {
    "slideshow": {
     "slide_type": "skip"
    }
   },
   "source": [
    "The generational distance is simply the inverse of `igd`:"
   ]
  },
  {
   "cell_type": "code",
   "execution_count": null,
   "metadata": {
    "slideshow": {
     "slide_type": "slide"
    }
   },
   "outputs": [],
   "source": [
    "def gd(front, reference_front):\n",
    "    return igd(reference_front, front)"
   ]
  },
  {
   "cell_type": "code",
   "execution_count": null,
   "metadata": {
    "slideshow": {
     "slide_type": "fragment"
    }
   },
   "outputs": [],
   "source": [
    "gd(front1, reference_front)"
   ]
  },
  {
   "cell_type": "code",
   "execution_count": null,
   "metadata": {
    "slideshow": {
     "slide_type": "fragment"
    }
   },
   "outputs": [],
   "source": [
    "gd(front2, reference_front)"
   ]
  },
  {
   "cell_type": "markdown",
   "metadata": {
    "slideshow": {
     "slide_type": "skip"
    }
   },
   "source": [
    "If we want to apply this to our Next Release Problem solutions, we first need to produce an approximate Pareto front:"
   ]
  },
  {
   "cell_type": "code",
   "execution_count": null,
   "metadata": {
    "slideshow": {
     "slide_type": "slide"
    }
   },
   "outputs": [],
   "source": [
    "merged_fronts = [] \n",
    "for front in fronts_nsgaii:\n",
    "    merged_fronts.extend(front)\n",
    "for front in solutions_ga:\n",
    "    merged_fronts.extend(front)    \n",
    "    \n",
    "sorted_results = fast_non_dominated_sort(merged_fronts)[0]\n",
    "reference_front = [merged_fronts[x] for x in sorted_results]"
   ]
  },
  {
   "cell_type": "markdown",
   "metadata": {
    "slideshow": {
     "slide_type": "skip"
    }
   },
   "source": [
    "Now we can calculate the metrics for our solutions:"
   ]
  },
  {
   "cell_type": "code",
   "execution_count": null,
   "metadata": {
    "slideshow": {
     "slide_type": "slide"
    }
   },
   "outputs": [],
   "source": [
    "igd_ga = []\n",
    "igd_nsgaii = []\n",
    "\n",
    "for front in fronts_nsgaii:\n",
    "    igd_nsgaii.append(igd(front, reference_front))\n",
    "        \n",
    "for solution in solutions_ga:\n",
    "    igd_ga.append(igd(solution, reference_front))\n",
    "\n",
    "results = {\"GA\"      : igd_ga, \n",
    "           \"NSGA-II\" : igd_nsgaii }\n",
    "\n",
    "fig, ax = plt.subplots()\n",
    "ax.boxplot(results.values())\n",
    "ax.set_xticklabels(results.keys())"
   ]
  },
  {
   "cell_type": "markdown",
   "metadata": {
    "slideshow": {
     "slide_type": "skip"
    }
   },
   "source": [
    "Since the distance for GA is higher, this means that the solution is further away from the (approximated) true Pareto front."
   ]
  },
  {
   "cell_type": "markdown",
   "metadata": {
    "slideshow": {
     "slide_type": "slide"
    }
   },
   "source": [
    "### Hypervolume"
   ]
  },
  {
   "cell_type": "markdown",
   "metadata": {
    "slideshow": {
     "slide_type": "skip"
    }
   },
   "source": [
    "The generational distance metric is known to be problematic (see lecture slides). The hypervolume is an alternative metric that measures the area (space) dominated by a given Pareto front. It is a unary indicator as it does not need a reference front, but it does require a reference point."
   ]
  },
  {
   "cell_type": "markdown",
   "metadata": {
    "slideshow": {
     "slide_type": "skip"
    }
   },
   "source": [
    "A disadvantage of the hypervolume compared to the previous metrics is that it its calculation is more complex. However, for the 2-dimensional case (as in our example) it essentially boils down to calculating the sum of areas of rectangles in objective space defined by the points on the pareto front."
   ]
  },
  {
   "cell_type": "markdown",
   "metadata": {
    "slideshow": {
     "slide_type": "skip"
    }
   },
   "source": [
    "For our example fronts with fake points, let's assume our reference point is $(0,0)$. We thus need to calculate the area of the following rectangles:"
   ]
  },
  {
   "cell_type": "code",
   "execution_count": null,
   "metadata": {
    "slideshow": {
     "slide_type": "fragment"
    }
   },
   "outputs": [],
   "source": [
    "import matplotlib.patches as patches\n",
    "from matplotlib.patches import Rectangle\n",
    "\n",
    "example_front = [(80, 20), (70, 40), (50, 50), (30, 70)]\n",
    "\n",
    "plt.xlim(0, 100)\n",
    "plt.ylim(0, 100)\n",
    "\n",
    "plt.plot(example_front[0][0], example_front[0][1], 'ro')\n",
    "plt.plot(example_front[1][0], example_front[1][1], 'ro')\n",
    "plt.plot(example_front[2][0], example_front[2][1], 'ro')\n",
    "plt.plot(example_front[3][0], example_front[3][1], 'ro')\n",
    "\n",
    "ax = plt.gca()\n",
    "rect = Rectangle((0, 0), example_front[0][0], example_front[0][1],linewidth=1,edgecolor='r',facecolor='none')\n",
    "ax.add_patch(rect)\n",
    "rect = Rectangle(example_front[1], -example_front[1][0], - (example_front[1][1] - example_front[0][1]), linewidth=1,edgecolor='r',facecolor='none')\n",
    "ax.add_patch(rect)\n",
    "rect = Rectangle(example_front[2], -example_front[2][0], - (example_front[2][1] - example_front[1][1]), linewidth=1,edgecolor='r',facecolor='none')\n",
    "ax.add_patch(rect)\n",
    "rect = Rectangle(example_front[3], -example_front[3][0], - (example_front[3][1] - example_front[2][1]), linewidth=1,edgecolor='r',facecolor='none')\n",
    "ax.add_patch(rect)"
   ]
  },
  {
   "cell_type": "markdown",
   "metadata": {
    "slideshow": {
     "slide_type": "skip"
    }
   },
   "source": [
    "That is, the hypervolume of a front $V = \\{v^{(1)}, v^{(2)},\\ldots, v^{(m)} \\}$ with respect to reference point $r$ in this case reduces to calculating: $H(V, r) = (r_1 - v_1^{(1)})(r_2 - v_2^{(1)}) + \\displaystyle\\sum_{i=2}^m (r_1 - v_1^{(i)})(r_2^{(i-1)} - v_2^{(i)})$\n",
    "\n",
    "In code, for our two objective values, this looks as follows:"
   ]
  },
  {
   "cell_type": "code",
   "execution_count": null,
   "metadata": {
    "slideshow": {
     "slide_type": "slide"
    }
   },
   "outputs": [],
   "source": [
    "def hypervolume(front, r):\n",
    "    front.sort(key=lambda i: i.fitness1)\n",
    "    \n",
    "    hv = abs(r[0] - front[0].fitness1) * abs(r[1] - front[0].fitness2)\n",
    "    \n",
    "    for i in range(1, len(front)):\n",
    "        hv += abs(r[0] - front[i].fitness1) * abs(front[i-1].fitness2 - front[i].fitness2)\n",
    "    \n",
    "    return hv"
   ]
  },
  {
   "cell_type": "markdown",
   "metadata": {
    "slideshow": {
     "slide_type": "skip"
    }
   },
   "source": [
    "Note the use of the absolute value function: We need to use this if one dimension is minimising and the other is maximising in order to avoid getting negative values for the hypervolume."
   ]
  },
  {
   "cell_type": "code",
   "execution_count": null,
   "metadata": {
    "slideshow": {
     "slide_type": "fragment"
    }
   },
   "outputs": [],
   "source": [
    "hypervolume(front1, (0,0))"
   ]
  },
  {
   "cell_type": "code",
   "execution_count": null,
   "metadata": {
    "slideshow": {
     "slide_type": "fragment"
    }
   },
   "outputs": [],
   "source": [
    "hypervolume(front2, (0,0))"
   ]
  },
  {
   "cell_type": "markdown",
   "metadata": {
    "slideshow": {
     "slide_type": "skip"
    }
   },
   "source": [
    "As expected, this also confirms that `front2` is better than `front1`. Unlike the generational distance measures, the hypervolume gives us insights not only into the closeness to a reference front, but also the diversity of the solutions on the Pareto front."
   ]
  },
  {
   "cell_type": "markdown",
   "metadata": {
    "slideshow": {
     "slide_type": "skip"
    }
   },
   "source": [
    "We can again use the hypervolume to compare our GA results with those produced by the NSGA-II. For profit, the reference point is `0` because we are trying to maximise profit. For costs, however, the reference point is different, since we are trying to minimise it -- we can use `total_costs` as reference point, since this is the upper bound on fitness values for this function."
   ]
  },
  {
   "cell_type": "code",
   "execution_count": null,
   "metadata": {
    "slideshow": {
     "slide_type": "slide"
    }
   },
   "outputs": [],
   "source": [
    "hv_ga = []\n",
    "hv_nsgaii = []\n",
    "\n",
    "for front in fronts_nsgaii:\n",
    "    hv_nsgaii.append(hypervolume(front, (0,total_costs)))\n",
    "        \n",
    "for solution in solutions_ga:\n",
    "    hv_ga.append(hypervolume(solution, (0,total_costs)))\n",
    "\n",
    "results = {\"GA\"      : hv_ga, \n",
    "           \"NSGA-II\" : hv_nsgaii }\n",
    "\n",
    "fig, ax = plt.subplots()\n",
    "ax.boxplot(results.values())\n",
    "ax.set_xticklabels(results.keys())"
   ]
  },
  {
   "cell_type": "markdown",
   "metadata": {
    "slideshow": {
     "slide_type": "skip"
    }
   },
   "source": [
    "Since the GA only produces a single point, the hypervolume of NSGA-II is sometimes larger again, but not always."
   ]
  },
  {
   "cell_type": "markdown",
   "metadata": {
    "slideshow": {
     "slide_type": "slide"
    }
   },
   "source": [
    "### Normalisation"
   ]
  },
  {
   "cell_type": "markdown",
   "metadata": {
    "slideshow": {
     "slide_type": "skip"
    }
   },
   "source": [
    "The concept of Pareto optimality itself is independent from scale and normalisation: it is strictly based on partial order only. For quality indicators, normalisation may be necessary so that multiple objectives contribute equally to the indicators. For example, we may want to make sure that profit and costs are weighted equally."
   ]
  },
  {
   "cell_type": "code",
   "execution_count": null,
   "metadata": {
    "slideshow": {
     "slide_type": "fragment"
    }
   },
   "outputs": [],
   "source": [
    "def hypervolume(front, r):\n",
    "    front.sort(key=lambda i: i.fitness1)\n",
    "\n",
    "    hv = (abs(r[0] - front[0].fitness1) / total_profit) * (abs(r[1] - front[0].fitness2) / total_costs)\n",
    "    \n",
    "    for i in range(1, len(front)):\n",
    "        hv += (abs(front[i-1].fitness1 - front[i].fitness1) / total_profit) * (abs(r[1] - front[i].fitness2) / total_costs)\n",
    "    \n",
    "    return hv"
   ]
  },
  {
   "cell_type": "markdown",
   "metadata": {
    "slideshow": {
     "slide_type": "skip"
    }
   },
   "source": [
    "Does it result in different hypervolumes?"
   ]
  },
  {
   "cell_type": "code",
   "execution_count": null,
   "metadata": {
    "slideshow": {
     "slide_type": "slide"
    }
   },
   "outputs": [],
   "source": [
    "hv_ga = []\n",
    "hv_nsgaii = []\n",
    "\n",
    "for front in fronts_nsgaii:\n",
    "    hv_nsgaii.append(hypervolume(front, (0,total_costs)))\n",
    "        \n",
    "for solution in solutions_ga:\n",
    "    hv_ga.append(hypervolume(solution, (0,total_costs)))\n",
    "\n",
    "results = {\"GA\"      : hv_ga, \n",
    "           \"NSGA-II\" : hv_nsgaii }\n",
    "\n",
    "fig, ax = plt.subplots()\n",
    "ax.boxplot(results.values())\n",
    "ax.set_xticklabels(results.keys())"
   ]
  },
  {
   "cell_type": "markdown",
   "metadata": {
    "slideshow": {
     "slide_type": "skip"
    }
   },
   "source": [
    "Now that we know how to compare MOEAs, in the next chapter will compare at a couple of different algorithms."
   ]
  }
 ],
 "metadata": {
  "celltoolbar": "Slideshow",
  "kernelspec": {
   "display_name": "Python 3 (ipykernel)",
   "language": "python",
   "name": "python3"
  },
  "language_info": {
   "codemirror_mode": {
    "name": "ipython",
    "version": 3
   },
   "file_extension": ".py",
   "mimetype": "text/x-python",
   "name": "python",
   "nbconvert_exporter": "python",
   "pygments_lexer": "ipython3",
   "version": "3.10.5"
  }
 },
 "nbformat": 4,
 "nbformat_minor": 4
}
